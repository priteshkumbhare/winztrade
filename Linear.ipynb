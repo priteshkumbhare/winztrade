{
  "nbformat": 4,
  "nbformat_minor": 0,
  "metadata": {
    "colab": {
      "provenance": []
    },
    "kernelspec": {
      "name": "python3",
      "display_name": "Python 3"
    },
    "language_info": {
      "name": "python"
    }
  },
  "cells": [
    {
      "cell_type": "code",
      "source": [
        "max_percent = 75\n",
        "eq_val = 6.68\n",
        "range_min = 0\n",
        "range_max = 10"
      ],
      "metadata": {
        "id": "NfxUcRfyCNLo"
      },
      "execution_count": 7,
      "outputs": []
    },
    {
      "cell_type": "code",
      "source": [
        "fact = max_percent / (100 - max_percent)"
      ],
      "metadata": {
        "id": "-NZrsW3tCc_1"
      },
      "execution_count": 2,
      "outputs": []
    },
    {
      "cell_type": "code",
      "execution_count": 3,
      "metadata": {
        "id": "eGeTkpb9Xexx"
      },
      "outputs": [],
      "source": [
        "def f(a,b):\n",
        "  if a < b:\n",
        "    f_a_b = g(b,a)\n",
        "  elif a == b:\n",
        "    if a == 0:\n",
        "      f_a_b = 10\n",
        "    f_a_b = eq_val\n",
        "  elif a >= round(fact * b,2):\n",
        "    f_a_b = 10\n",
        "  else:\n",
        "    f_a_b = eq_val + (10 - eq_val) * (a - b) / ((fact - 1) * b)\n",
        "  return 9.5 if f_a_b >= 9.5 else 0.5 if f_a_b <= 0.5 else f_a_b"
      ]
    },
    {
      "cell_type": "code",
      "source": [
        "def g(a,b):\n",
        "  if a < b:\n",
        "    g_a_b = f(b,a)\n",
        "  elif a == b:\n",
        "    if a == 0:\n",
        "      g_a_b = 10\n",
        "    g_a_b = eq_val\n",
        "  elif a >= round(fact * (b + 1),2):\n",
        "    g_a_b = 0\n",
        "  elif a >= round(fact * b,2):\n",
        "    n = fact * (b + 1) - a\n",
        "    g_a_b = (10 - eq_val) * n * (n + 1) / (2 * (fact-1) * (b+1))\n",
        "  else:\n",
        "    offset = ((10 - eq_val) * fact * fact)/ (2 * (fact - 1))\n",
        "    g_a_b = offset - ((10 - eq_val) * a * (a-1)) / (2 * (fact-1) * b * (b+1))\n",
        "  return 9.5 if g_a_b >= 9.5 else 0.5 if g_a_b <= 0.5 else g_a_b"
      ],
      "metadata": {
        "id": "JZaNv3PAd2mS"
      },
      "execution_count": 4,
      "outputs": []
    },
    {
      "cell_type": "code",
      "source": [
        "f(0,0)"
      ],
      "metadata": {
        "colab": {
          "base_uri": "https://localhost:8080/"
        },
        "id": "tCw4eOTZeHOe",
        "outputId": "25fc702f-23fb-43d3-df0e-75b847172941"
      },
      "execution_count": 5,
      "outputs": [
        {
          "output_type": "execute_result",
          "data": {
            "text/plain": [
              "6.68"
            ]
          },
          "metadata": {},
          "execution_count": 5
        }
      ]
    },
    {
      "cell_type": "code",
      "source": [
        "for b in range(19,-1,-1):\n",
        "  for a in range(20):\n",
        "    print(round(f(a,b),2),end=\"\\t\")\n",
        "  print(\"\")"
      ],
      "metadata": {
        "colab": {
          "base_uri": "https://localhost:8080/"
        },
        "id": "PFJBMMiyaDw3",
        "outputId": "ec7b1a15-ef2a-4ce0-825d-f1f85c044b88"
      },
      "execution_count": 6,
      "outputs": [
        {
          "output_type": "stream",
          "name": "stdout",
          "text": [
            "0.5\t0.5\t0.5\t0.5\t0.5\t0.5\t0.71\t2.4\t3.53\t4.32\t4.89\t5.32\t5.65\t5.91\t6.12\t6.29\t6.43\t6.54\t6.64\t6.68\t\n",
            "0.5\t0.5\t0.5\t0.5\t0.5\t0.5\t1.42\t2.93\t3.94\t4.65\t5.16\t5.55\t5.84\t6.07\t6.26\t6.41\t6.54\t6.64\t6.68\t6.77\t\n",
            "0.5\t0.5\t0.5\t0.5\t0.5\t0.5\t2.09\t3.44\t4.33\t4.96\t5.42\t5.76\t6.02\t6.23\t6.39\t6.53\t6.64\t6.68\t6.78\t6.88\t\n",
            "0.5\t0.5\t0.5\t0.5\t0.5\t0.83\t2.73\t3.91\t4.7\t5.26\t5.66\t5.96\t6.19\t6.38\t6.52\t6.64\t6.68\t6.78\t6.89\t6.99\t\n",
            "0.5\t0.5\t0.5\t0.5\t0.5\t1.66\t3.32\t4.36\t5.05\t5.53\t5.89\t6.15\t6.35\t6.51\t6.64\t6.68\t6.79\t6.9\t7.01\t7.12\t\n",
            "0.5\t0.5\t0.5\t0.5\t0.5\t2.43\t3.87\t4.77\t5.37\t5.79\t6.1\t6.33\t6.5\t6.64\t6.68\t6.8\t6.92\t7.04\t7.15\t7.27\t\n",
            "0.5\t0.5\t0.5\t0.5\t1.0\t3.15\t4.39\t5.16\t5.67\t6.03\t6.29\t6.49\t6.64\t6.68\t6.81\t6.94\t7.06\t7.19\t7.32\t7.45\t\n",
            "0.5\t0.5\t0.5\t0.5\t1.99\t3.82\t4.86\t5.51\t5.95\t6.25\t6.47\t6.64\t6.68\t6.82\t6.96\t7.09\t7.23\t7.37\t7.51\t7.65\t\n",
            "0.5\t0.5\t0.5\t0.5\t2.91\t4.43\t5.3\t5.84\t6.2\t6.46\t6.64\t6.68\t6.83\t6.98\t7.13\t7.28\t7.43\t7.59\t7.74\t7.89\t\n",
            "0.5\t0.5\t0.5\t1.25\t3.74\t4.98\t5.69\t6.14\t6.43\t6.64\t6.68\t6.85\t7.01\t7.18\t7.34\t7.51\t7.68\t7.84\t8.01\t8.17\t\n",
            "0.5\t0.5\t0.5\t2.49\t4.48\t5.48\t6.05\t6.4\t6.64\t6.68\t6.86\t7.05\t7.23\t7.42\t7.6\t7.79\t7.97\t8.16\t8.34\t8.52\t\n",
            "0.5\t0.5\t0.55\t3.6\t5.15\t5.92\t6.36\t6.64\t6.68\t6.89\t7.09\t7.3\t7.51\t7.72\t7.92\t8.13\t8.34\t8.55\t8.75\t8.96\t\n",
            "0.5\t0.5\t1.66\t4.57\t5.73\t6.31\t6.64\t6.68\t6.92\t7.15\t7.39\t7.63\t7.87\t8.1\t8.34\t8.58\t8.81\t9.05\t9.29\t9.5\t\n",
            "0.5\t0.5\t3.32\t5.4\t6.23\t6.64\t6.68\t6.96\t7.23\t7.51\t7.79\t8.06\t8.34\t8.62\t8.89\t9.17\t9.45\t9.5\t9.5\t9.5\t\n",
            "0.5\t0.83\t4.7\t6.09\t6.64\t6.68\t7.01\t7.34\t7.68\t8.01\t8.34\t8.67\t9.0\t9.34\t9.5\t9.5\t9.5\t9.5\t9.5\t9.5\t\n",
            "0.5\t2.49\t5.81\t6.64\t6.68\t7.09\t7.51\t7.92\t8.34\t8.75\t9.17\t9.5\t9.5\t9.5\t9.5\t9.5\t9.5\t9.5\t9.5\t9.5\t\n",
            "0.5\t4.98\t6.64\t6.68\t7.23\t7.79\t8.34\t8.89\t9.45\t9.5\t9.5\t9.5\t9.5\t9.5\t9.5\t9.5\t9.5\t9.5\t9.5\t9.5\t\n",
            "1.66\t6.64\t6.68\t7.51\t8.34\t9.17\t9.5\t9.5\t9.5\t9.5\t9.5\t9.5\t9.5\t9.5\t9.5\t9.5\t9.5\t9.5\t9.5\t9.5\t\n",
            "4.98\t6.68\t8.34\t9.5\t9.5\t9.5\t9.5\t9.5\t9.5\t9.5\t9.5\t9.5\t9.5\t9.5\t9.5\t9.5\t9.5\t9.5\t9.5\t9.5\t\n",
            "6.68\t9.5\t9.5\t9.5\t9.5\t9.5\t9.5\t9.5\t9.5\t9.5\t9.5\t9.5\t9.5\t9.5\t9.5\t9.5\t9.5\t9.5\t9.5\t9.5\t\n"
          ]
        }
      ]
    },
    {
      "cell_type": "code",
      "source": [
        "for b in range(19,-1,-1):\n",
        "  for a in range(20):\n",
        "    print(round(g(a,b),2),end=\"\\t\")\n",
        "  print(\"\")"
      ],
      "metadata": {
        "colab": {
          "base_uri": "https://localhost:8080/"
        },
        "id": "zkvNFuVGPAlu",
        "outputId": "e5a7c728-cc5c-4e4b-e438-3db8bd7a154e"
      },
      "execution_count": null,
      "outputs": [
        {
          "output_type": "stream",
          "name": "stdout",
          "text": [
            "9.5\t9.5\t9.5\t9.5\t9.5\t9.5\t9.5\t9.5\t8.96\t8.52\t8.17\t7.89\t7.65\t7.45\t7.27\t7.12\t6.99\t6.88\t6.77\t6.68\t\n",
            "9.5\t9.5\t9.5\t9.5\t9.5\t9.5\t9.5\t9.29\t8.75\t8.34\t8.01\t7.74\t7.51\t7.32\t7.15\t7.01\t6.89\t6.78\t6.68\t6.64\t\n",
            "9.5\t9.5\t9.5\t9.5\t9.5\t9.5\t9.5\t9.05\t8.55\t8.16\t7.84\t7.59\t7.37\t7.19\t7.04\t6.9\t6.78\t6.68\t6.64\t6.54\t\n",
            "9.5\t9.5\t9.5\t9.5\t9.5\t9.5\t9.45\t8.81\t8.34\t7.97\t7.68\t7.43\t7.23\t7.06\t6.92\t6.79\t6.68\t6.64\t6.54\t6.43\t\n",
            "9.5\t9.5\t9.5\t9.5\t9.5\t9.5\t9.17\t8.58\t8.13\t7.79\t7.51\t7.28\t7.09\t6.94\t6.8\t6.68\t6.64\t6.53\t6.41\t6.29\t\n",
            "9.5\t9.5\t9.5\t9.5\t9.5\t9.5\t8.89\t8.34\t7.92\t7.6\t7.34\t7.13\t6.96\t6.81\t6.68\t6.64\t6.52\t6.39\t6.26\t6.12\t\n",
            "9.5\t9.5\t9.5\t9.5\t9.5\t9.34\t8.62\t8.1\t7.72\t7.42\t7.18\t6.98\t6.82\t6.68\t6.64\t6.51\t6.38\t6.23\t6.07\t5.91\t\n",
            "9.5\t9.5\t9.5\t9.5\t9.5\t9.0\t8.34\t7.87\t7.51\t7.23\t7.01\t6.83\t6.68\t6.64\t6.5\t6.35\t6.19\t6.02\t5.84\t5.65\t\n",
            "9.5\t9.5\t9.5\t9.5\t9.5\t8.67\t8.06\t7.63\t7.3\t7.05\t6.85\t6.68\t6.64\t6.49\t6.33\t6.15\t5.96\t5.76\t5.55\t5.32\t\n",
            "9.5\t9.5\t9.5\t9.5\t9.17\t8.34\t7.79\t7.39\t7.09\t6.86\t6.68\t6.64\t6.47\t6.29\t6.1\t5.89\t5.66\t5.42\t5.16\t4.89\t\n",
            "9.5\t9.5\t9.5\t9.5\t8.75\t8.01\t7.51\t7.15\t6.89\t6.68\t6.64\t6.46\t6.25\t6.03\t5.79\t5.53\t5.26\t4.96\t4.65\t4.32\t\n",
            "9.5\t9.5\t9.5\t9.45\t8.34\t7.68\t7.23\t6.92\t6.68\t6.64\t6.43\t6.2\t5.95\t5.67\t5.37\t5.05\t4.7\t4.33\t3.94\t3.53\t\n",
            "9.5\t9.5\t9.5\t8.89\t7.92\t7.34\t6.96\t6.68\t6.64\t6.4\t6.14\t5.84\t5.51\t5.16\t4.77\t4.36\t3.91\t3.44\t2.93\t2.4\t\n",
            "9.5\t9.5\t9.5\t8.34\t7.51\t7.01\t6.68\t6.64\t6.36\t6.05\t5.69\t5.3\t4.86\t4.39\t3.87\t3.32\t2.73\t2.09\t1.42\t0.71\t\n",
            "9.5\t9.5\t9.17\t7.79\t7.09\t6.68\t6.64\t6.31\t5.92\t5.48\t4.98\t4.43\t3.82\t3.15\t2.43\t1.66\t0.83\t0.5\t0.5\t0.5\t\n",
            "9.5\t9.5\t8.34\t7.23\t6.68\t6.64\t6.23\t5.73\t5.15\t4.48\t3.74\t2.91\t1.99\t1.0\t0.5\t0.5\t0.5\t0.5\t0.5\t0.5\t\n",
            "9.5\t9.5\t7.51\t6.68\t6.64\t6.09\t5.4\t4.57\t3.6\t2.49\t1.25\t0.5\t0.5\t0.5\t0.5\t0.5\t0.5\t0.5\t0.5\t0.5\t\n",
            "9.5\t8.34\t6.68\t6.64\t5.81\t4.7\t3.32\t1.66\t0.55\t0.5\t0.5\t0.5\t0.5\t0.5\t0.5\t0.5\t0.5\t0.5\t0.5\t0.5\t\n",
            "9.5\t6.68\t6.64\t4.98\t2.49\t0.83\t0.5\t0.5\t0.5\t0.5\t0.5\t0.5\t0.5\t0.5\t0.5\t0.5\t0.5\t0.5\t0.5\t0.5\t\n",
            "6.68\t4.98\t1.66\t0.5\t0.5\t0.5\t0.5\t0.5\t0.5\t0.5\t0.5\t0.5\t0.5\t0.5\t0.5\t0.5\t0.5\t0.5\t0.5\t0.5\t\n"
          ]
        }
      ]
    },
    {
      "cell_type": "code",
      "source": [
        "import matplotlib.pyplot as plt\n",
        "import numpy as np\n",
        "\n",
        "till = 10\n",
        "xpoints = np.array(range(2*till))\n",
        "ypoints = np.array([g(a,till) for a in range(2*till)])\n",
        "\n",
        "plt.plot(xpoints, ypoints)\n",
        "plt.show()"
      ],
      "metadata": {
        "colab": {
          "base_uri": "https://localhost:8080/",
          "height": 430
        },
        "id": "ds-MfCM4aaxO",
        "outputId": "574cd54e-852e-4cc4-a972-0d2f6e42f71a"
      },
      "execution_count": null,
      "outputs": [
        {
          "output_type": "display_data",
          "data": {
            "text/plain": [
              "<Figure size 640x480 with 1 Axes>"
            ],
            "image/png": "[encoded data removed]"
          },
          "metadata": {}
        }
      ]
    },
    {
      "cell_type": "code",
      "source": [],
      "metadata": {
        "id": "A4u7KB71_kLX"
      },
      "execution_count": null,
      "outputs": []
    }
  ]
}